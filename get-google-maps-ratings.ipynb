{
 "cells": [
  {
   "cell_type": "code",
   "execution_count": 31,
   "metadata": {},
   "outputs": [],
   "source": [
    "import pandas as pd\n",
    "import numpy as np\n",
    "import json\n",
    "import requests\n",
    "pd.set_option('max_columns', None) #an option to show all cols with df.head()\n",
    "df = pd.read_csv('playas_translated_columns_new_1')"
   ]
  },
  {
   "cell_type": "code",
   "execution_count": 32,
   "metadata": {},
   "outputs": [],
   "source": [
    "df = df.head()\n",
    "df['rating'] = np.nan #creating a new column pre-filled with NaN\n",
    "df['google_place_id'] = np.nan #creating a new column pre-filled with NaN"
   ]
  },
  {
   "cell_type": "code",
   "execution_count": 33,
   "metadata": {},
   "outputs": [],
   "source": [
    "for index, row in df.iterrows(): #for every row of the column\n",
    "    name = row['Name'].replace(\" \", \"%20\") #replace spaces with %20 to fit url\n",
    "    lat = row['lat']\n",
    "    lng = row['lon']\n",
    "    nearby = f\"https://maps.googleapis.com/maps/api/place/nearbysearch/json?key=ENTERKEYHERE={lat},{lng}&radius=500&name={name}&type=natural_feature\"\n",
    "    response=requests.get(nearby)\n",
    "    response.raise_for_status()\n",
    "    r=json.loads(response.text) #r is the response from the api as a python variable\n",
    "    try: # try to fill column with values, except if URl returned no valid response\n",
    "        row['rating'] = r['results'][0]['rating']\n",
    "    except IndexError:\n",
    "        row['rating'] = '-'    \n",
    "    try:\n",
    "        row['google_place_id'] = r['results'][0]['place_id']\n",
    "    except IndexError:\n",
    "        row['google_place_id'] = np.nan"
   ]
  },
  {
   "cell_type": "code",
   "execution_count": 36,
   "metadata": {},
   "outputs": [
    {
     "data": {
      "text/plain": [
       "4.1"
      ]
     },
     "execution_count": 36,
     "metadata": {},
     "output_type": "execute_result"
    }
   ],
   "source": [
    "r['results'][0]['rating']"
   ]
  },
  {
   "cell_type": "markdown",
   "metadata": {},
   "source": [
    "# Hi Nidhi :)\n",
    "The good news is: the API does return ratings for a spot!\n",
    "On this note I have first reduced df to just five rows, because making requests\n",
    "to the API can cost after a while (I used my credit card), so let's make sure we figure this out fully before we use it on the whole dataframe.\n",
    "\n",
    "What is still not working is appending the results of our query back to the dataframe (this is what the try/except statements are).\n",
    "We also need to have an except statement because if the api cannot find any spot within 500m of the coordinates we give it it will return no values. In this case the dataframe should ideally stay filled with NaN.\n",
    "\n",
    "Perhaps you find a solution, I am done for the day :)"
   ]
  },
  {
   "cell_type": "code",
   "execution_count": null,
   "metadata": {},
   "outputs": [],
   "source": []
  }
 ],
 "metadata": {
  "kernelspec": {
   "display_name": "Python 3",
   "language": "python",
   "name": "python3"
  },
  "language_info": {
   "codemirror_mode": {
    "name": "ipython",
    "version": 3
   },
   "file_extension": ".py",
   "mimetype": "text/x-python",
   "name": "python",
   "nbconvert_exporter": "python",
   "pygments_lexer": "ipython3",
   "version": "3.8.5"
  }
 },
 "nbformat": 4,
 "nbformat_minor": 4
}
